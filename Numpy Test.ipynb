{
 "cells": [
  {
   "cell_type": "code",
   "execution_count": null,
   "id": "a736b0a6-1aa1-44ba-a2b8-eb2e0e7fa696",
   "metadata": {},
   "outputs": [],
   "source": [
    "import numpy as np"
   ]
  },
  {
   "cell_type": "code",
   "execution_count": null,
   "id": "03ad1f20-ed8b-4cb6-b013-ebb7e2d61697",
   "metadata": {},
   "outputs": [],
   "source": [
    "np.arange(start=1, stop=10, step=3)"
   ]
  },
  {
   "cell_type": "code",
   "execution_count": null,
   "id": "298f9a40-a4b8-4bf0-872a-f533957971d2",
   "metadata": {},
   "outputs": [],
   "source": [
    "np.arange(start=1, stop=100, step=3)"
   ]
  },
  {
   "cell_type": "code",
   "execution_count": null,
   "id": "12d1f367-4af3-437f-a3de-8662bacd6e8a",
   "metadata": {},
   "outputs": [],
   "source": [
    "np.arange(start=1, stop=100)"
   ]
  },
  {
   "cell_type": "code",
   "execution_count": null,
   "id": "3192a2bd-3528-44e8-8b06-349027b6abf6",
   "metadata": {},
   "outputs": [],
   "source": []
  },
  {
   "cell_type": "code",
   "execution_count": null,
   "id": "90cd12b6-f101-4971-bd0e-49a83b3f9070",
   "metadata": {},
   "outputs": [],
   "source": []
  }
 ],
 "metadata": {
  "kernelspec": {
   "display_name": "my_env3_10",
   "language": "python",
   "name": "my_env3_10"
  },
  "language_info": {
   "codemirror_mode": {
    "name": "ipython",
    "version": 3
   },
   "file_extension": ".py",
   "mimetype": "text/x-python",
   "name": "python",
   "nbconvert_exporter": "python",
   "pygments_lexer": "ipython3",
   "version": "3.10.13"
  }
 },
 "nbformat": 4,
 "nbformat_minor": 5
}
